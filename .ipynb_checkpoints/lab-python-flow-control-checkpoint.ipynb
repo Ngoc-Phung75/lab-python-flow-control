{
 "cells": [
  {
   "cell_type": "markdown",
   "id": "d3bfc191-8885-42ee-b0a0-bbab867c6f9f",
   "metadata": {
    "tags": []
   },
   "source": [
    "# Lab | Flow Control"
   ]
  },
  {
   "cell_type": "markdown",
   "id": "3851fcd1-cf98-4653-9c89-e003b7ec9400",
   "metadata": {},
   "source": [
    "## Exercise: Managing Customer Orders Optimized\n",
    "\n",
    "In the last lab, you were starting an online store that sells various products. To ensure smooth operations, you developed a program that manages customer orders and inventory.\n",
    "\n",
    "You did so without using flow control. Let's go a step further and improve this code.\n",
    "\n",
    "Follow the steps below to complete the exercise:\n",
    "\n",
    "1. Look at your code from the lab data structures, and improve repeated code with loops.\n",
    "\n",
    "2. Instead of asking the user to input the name of three products that a customer wants to order, do the following:\n",
    "    \n",
    "    a. Prompt the user to enter the name of a product that a customer wants to order.\n",
    "    \n",
    "    b. Add the product name to the \"customer_orders\" set.\n",
    "    \n",
    "    c. Ask the user if they want to add another product (yes/no).\n",
    "    \n",
    "    d. Continue the loop until the user does not want to add another product.\n",
    "\n",
    "3. Instead of updating the inventory by subtracting 1 from the quantity of each product, only do it for  the products that were ordered (those in \"customer_orders\")."
   ]
  },
  {
   "cell_type": "code",
   "execution_count": 2,
   "id": "47ba6de4-4bed-4506-84eb-5b39583befcd",
   "metadata": {},
   "outputs": [
    {
     "name": "stdout",
     "output_type": "stream",
     "text": [
      "Enter the quantity for each product:\n"
     ]
    },
    {
     "name": "stdin",
     "output_type": "stream",
     "text": [
      "t-shirt:  5\n",
      "mug:  7\n",
      "hat:  9\n",
      "book:  11\n",
      "keychain:  3\n"
     ]
    }
   ],
   "source": [
    "#1- Look at your code from the lab data structures, and improve repeated code with loops.\n",
    "products = [\"t-shirt\", \"mug\", \"hat\", \"book\", \"keychain\"]\n",
    "\n",
    "inventory = {}\n",
    "print(\"Enter the quantity for each product:\")\n",
    "\n",
    "for product in products:\n",
    "    while True:\n",
    "        try:\n",
    "            quantity = int(input(f\"{product}: \"))\n",
    "            if quantity < 0:\n",
    "                print(\"Quantity cannot be negative. Please enter a valid number.\")\n",
    "                continue\n",
    "            inventory[product] = quantity\n",
    "            break\n",
    "        except ValueError:\n",
    "            print(\"Invalid input. Please enter an integer value.\")\n",
    "\n",
    "customer_orders = set()\n"
   ]
  },
  {
   "cell_type": "code",
   "execution_count": 16,
   "id": "2957ae78-c374-482f-b40d-ce82aa3dafe2",
   "metadata": {},
   "outputs": [
    {
     "name": "stdout",
     "output_type": "stream",
     "text": [
      "\n",
      "Available products: t-shirt, mug, hat, book, keychain\n"
     ]
    },
    {
     "name": "stdin",
     "output_type": "stream",
     "text": [
      "Enter the name of a product you want to order:  t-shirt\n"
     ]
    },
    {
     "name": "stdout",
     "output_type": "stream",
     "text": [
      "t-shirt added to your order.\n"
     ]
    },
    {
     "name": "stdin",
     "output_type": "stream",
     "text": [
      "Do you want to add another product? (YES/NO):  yes\n",
      "Enter the name of a product you want to order:  mug\n"
     ]
    },
    {
     "name": "stdout",
     "output_type": "stream",
     "text": [
      "mug added to your order.\n"
     ]
    },
    {
     "name": "stdin",
     "output_type": "stream",
     "text": [
      "Do you want to add another product? (YES/NO):  yes\n",
      "Enter the name of a product you want to order:  book\n"
     ]
    },
    {
     "name": "stdout",
     "output_type": "stream",
     "text": [
      "book added to your order.\n"
     ]
    },
    {
     "name": "stdin",
     "output_type": "stream",
     "text": [
      "Do you want to add another product? (YES/NO):  yes\n",
      "Enter the name of a product you want to order:  hat\n"
     ]
    },
    {
     "name": "stdout",
     "output_type": "stream",
     "text": [
      "hat added to your order.\n"
     ]
    },
    {
     "name": "stdin",
     "output_type": "stream",
     "text": [
      "Do you want to add another product? (YES/NO):  no\n"
     ]
    }
   ],
   "source": [
    "#2- Instead of asking the user to input the name of three products that a customer wants to order, do the following:\n",
    "\n",
    "#a. Prompt the user to enter the name of a product that a customer wants to order.\n",
    "#b. Add the product name to the \"customer_orders\" set.\n",
    "#c. Ask the user if they want to add another product (yes/no).\n",
    "#d. Continue the loop until the user does not want to add another product.\n",
    "\n",
    "\n",
    "print(\"\\nAvailable products:\", \", \".join(products))\n",
    "\n",
    "while True:\n",
    "    product = input(\"Enter the name of a product you want to order: \").strip().lower()\n",
    "    if product in products:\n",
    "        customer_orders.add(product)\n",
    "        print(f\"{product} added to your order.\")\n",
    "    else:\n",
    "        print(\"Invalid product. Please choose from the available products.\")\n",
    "    \n",
    "    another = input(\"Do you want to add another product? (YES/NO): \").strip().lower()\n",
    "    if another != \"yes\":\n",
    "        break"
   ]
  },
  {
   "cell_type": "code",
   "execution_count": 20,
   "id": "23329572-9425-489b-83a1-a25ee04fcbb8",
   "metadata": {},
   "outputs": [
    {
     "name": "stdout",
     "output_type": "stream",
     "text": [
      "\n",
      "Order Status:\n",
      "Total Products Ordered: 4\n",
      "Percentage of Products Ordered: 80.00%\n",
      "\n",
      "Updated Inventory:\n",
      "t-shirt: 3\n",
      "mug: 5\n",
      "hat: 7\n",
      "book: 9\n",
      "keychain: 3\n"
     ]
    }
   ],
   "source": [
    "# Calculate customer order statistics\n",
    "\n",
    "total_products_ordered = len(customer_orders)\n",
    "percentage_products_ordered = (total_products_ordered / len(products)) * 100\n",
    "order_status = (total_products_ordered, percentage_products_ordered)\n",
    "\n",
    "# Update inventory based on the order\n",
    "for product in customer_orders:\n",
    "    if product in inventory:\n",
    "        inventory[product] = max(0, inventory[product] - 1)\n",
    "\n",
    "# Display the results\n",
    "print(\"\\nOrder Status:\")\n",
    "print(f\"Total Products Ordered: {order_status[0]}\")\n",
    "print(f\"Percentage of Products Ordered: {order_status[1]:.2f}%\")\n",
    "\n",
    "print(\"\\nUpdated Inventory:\")\n",
    "for product, quantity in inventory.items():\n",
    "    print(f\"{product}: {quantity}\")\n"
   ]
  },
  {
   "cell_type": "code",
   "execution_count": 22,
   "id": "ccebf154-d05f-4488-999d-d848e6ede35e",
   "metadata": {},
   "outputs": [
    {
     "name": "stdout",
     "output_type": "stream",
     "text": [
      "\n",
      "Order Status:\n",
      "Total Products Ordered: 4\n",
      "Percentage of Products Ordered: 80.00%\n",
      "\n",
      "Updated Inventory:\n",
      "t-shirt: 2\n",
      "mug: 4\n",
      "hat: 6\n",
      "book: 8\n",
      "keychain: 3\n"
     ]
    }
   ],
   "source": [
    "#3- Instead of updating the inventory by subtracting 1 from the quantity of each product, only do it for the products that were ordered (those in \"customer_orders\").\n",
    "\n",
    "# Update inventory based on the order\n",
    "for product in customer_orders:\n",
    "    if product in inventory:\n",
    "        inventory[product] = max(0, inventory[product] - 1)\n",
    "\n",
    "# Display the results\n",
    "print(\"\\nOrder Status:\")\n",
    "print(f\"Total Products Ordered: {order_status[0]}\")\n",
    "print(f\"Percentage of Products Ordered: {order_status[1]:.2f}%\")\n",
    "\n",
    "print(\"\\nUpdated Inventory:\")\n",
    "for product, quantity in inventory.items():\n",
    "    print(f\"{product}: {quantity}\")"
   ]
  },
  {
   "cell_type": "code",
   "execution_count": null,
   "id": "f950793f-7b1a-45c2-92ee-d15cd2126018",
   "metadata": {},
   "outputs": [],
   "source": []
  }
 ],
 "metadata": {
  "kernelspec": {
   "display_name": "Python [conda env:base] *",
   "language": "python",
   "name": "conda-base-py"
  },
  "language_info": {
   "codemirror_mode": {
    "name": "ipython",
    "version": 3
   },
   "file_extension": ".py",
   "mimetype": "text/x-python",
   "name": "python",
   "nbconvert_exporter": "python",
   "pygments_lexer": "ipython3",
   "version": "3.12.7"
  }
 },
 "nbformat": 4,
 "nbformat_minor": 5
}
